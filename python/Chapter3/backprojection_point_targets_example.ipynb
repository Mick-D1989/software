{
 "cells": [
  {
   "cell_type": "markdown",
   "metadata": {},
   "source": [
    "# Introduction to Synthetic Aperture Radar Using Python and MATLAB \n",
    "\n",
    "## by Andy Harrison - © 2022 Artech House\n",
    "\n",
    "---\n",
    "\n",
    "## Example 3.4.7 Backprojection Algorithm - Point Targets\n",
    "\n",
    "---"
   ]
  },
  {
   "cell_type": "markdown",
   "metadata": {},
   "source": [
    "**Import Modules**"
   ]
  },
  {
   "cell_type": "code",
   "execution_count": 1,
   "metadata": {},
   "outputs": [],
   "source": [
    "%matplotlib inline\n",
    "\n",
    "import numpy as np\n",
    "\n",
    "from scipy.constants import speed_of_light, pi\n",
    "\n",
    "import backprojection as bp\n",
    "\n",
    "from matplotlib import pyplot as plt"
   ]
  },
  {
   "cell_type": "markdown",
   "metadata": {},
   "source": [
    "**Set the range to the image center (m)**"
   ]
  },
  {
   "cell_type": "code",
   "execution_count": 2,
   "metadata": {},
   "outputs": [],
   "source": [
    "range_center = 1000"
   ]
  },
  {
   "cell_type": "markdown",
   "metadata": {},
   "source": [
    "**Set the point target locations (m) and RCS (m<sup>2</sup>)**"
   ]
  },
  {
   "cell_type": "code",
   "execution_count": 3,
   "metadata": {},
   "outputs": [],
   "source": [
    "x_target = [3, 0, -3]\n",
    "\n",
    "y_target = [-3, 0, 3]\n",
    "\n",
    "rcs = [10, 10, 20]"
   ]
  },
  {
   "cell_type": "markdown",
   "metadata": {},
   "source": [
    "**Set the image span (m)**"
   ]
  },
  {
   "cell_type": "code",
   "execution_count": 4,
   "metadata": {},
   "outputs": [],
   "source": [
    "x_span = 20\n",
    "\n",
    "y_span = 20"
   ]
  },
  {
   "cell_type": "markdown",
   "metadata": {},
   "source": [
    "**Set the number of bins in the image**"
   ]
  },
  {
   "cell_type": "code",
   "execution_count": 5,
   "metadata": {},
   "outputs": [],
   "source": [
    "nx = 500 # Number of bins in x-direction\n",
    "\n",
    "ny = 500 # Number of bins in y-direction"
   ]
  },
  {
   "cell_type": "markdown",
   "metadata": {},
   "source": [
    "**Set the start frequency and bandwidth (Hz)**"
   ]
  },
  {
   "cell_type": "code",
   "execution_count": 6,
   "metadata": {},
   "outputs": [],
   "source": [
    "start_frequency = 5e9 \n",
    "\n",
    "bandwidth = 300e6 "
   ]
  },
  {
   "cell_type": "markdown",
   "metadata": {},
   "source": [
    "**Set the azimuth span of the synthetic apreture (deg)**"
   ]
  },
  {
   "cell_type": "code",
   "execution_count": 7,
   "metadata": {},
   "outputs": [],
   "source": [
    "az_start = -3\n",
    "\n",
    "az_end = 3"
   ]
  },
  {
   "cell_type": "markdown",
   "metadata": {},
   "source": [
    "**Set the window type for the image**"
   ]
  },
  {
   "cell_type": "code",
   "execution_count": 8,
   "metadata": {},
   "outputs": [],
   "source": [
    "window_type = 'Hanning'"
   ]
  },
  {
   "cell_type": "markdown",
   "metadata": {},
   "source": [
    "**Set the dynamic range for the image plot (dB)**"
   ]
  },
  {
   "cell_type": "code",
   "execution_count": 9,
   "metadata": {},
   "outputs": [],
   "source": [
    "dynamic_range = 50"
   ]
  },
  {
   "cell_type": "markdown",
   "metadata": {},
   "source": [
    "**Set up the azimuth space**"
   ]
  },
  {
   "cell_type": "code",
   "execution_count": 10,
   "metadata": {},
   "outputs": [],
   "source": [
    "r = np.sqrt(x_span**2 + y_span**2)\n",
    "\n",
    "da = speed_of_light / (2.0 * r * start_frequency)\n",
    "\n",
    "na = round((az_end - az_start) / da)\n",
    "\n",
    "az = np.linspace(az_start, az_end, int(na))"
   ]
  },
  {
   "cell_type": "markdown",
   "metadata": {},
   "source": [
    "**Set up the frequency space**"
   ]
  },
  {
   "cell_type": "code",
   "execution_count": 11,
   "metadata": {},
   "outputs": [],
   "source": [
    "df = speed_of_light / (2.0 * r)\n",
    "\n",
    "nf = np.floor(bandwidth / df)\n",
    "\n",
    "frequency = np.linspace(start_frequency, start_frequency + bandwidth, int(nf))"
   ]
  },
  {
   "cell_type": "markdown",
   "metadata": {},
   "source": [
    "**Set the length of the FFT**"
   ]
  },
  {
   "cell_type": "code",
   "execution_count": 12,
   "metadata": {},
   "outputs": [],
   "source": [
    "fft_length = int(8 * 2**np.ceil(np.log2(nf)))"
   ]
  },
  {
   "cell_type": "markdown",
   "metadata": {},
   "source": [
    "**Set up the aperture positions**"
   ]
  },
  {
   "cell_type": "code",
   "execution_count": 13,
   "metadata": {},
   "outputs": [],
   "source": [
    "sensor_x = range_center * np.cos(np.radians(az))\n",
    "\n",
    "sensor_y = range_center * np.sin(np.radians(az))\n",
    "\n",
    "sensor_z = np.zeros_like(sensor_x)"
   ]
  },
  {
   "cell_type": "markdown",
   "metadata": {},
   "source": [
    "**Set up the image space**"
   ]
  },
  {
   "cell_type": "code",
   "execution_count": 14,
   "metadata": {},
   "outputs": [],
   "source": [
    "xi = np.linspace(-0.5 * x_span, 0.5 * x_span, nx)\n",
    "\n",
    "yi = np.linspace(-0.5 * y_span, 0.5 * y_span, ny)\n",
    "\n",
    "[x_image, y_image] =np. meshgrid(xi, yi)\n",
    "\n",
    "z_image = np.zeros_like(x_image)"
   ]
  },
  {
   "cell_type": "markdown",
   "metadata": {},
   "source": [
    "**Calculate the signal in wavenumber space**"
   ]
  },
  {
   "cell_type": "code",
   "execution_count": 15,
   "metadata": {},
   "outputs": [],
   "source": [
    "# Initialize the signal\n",
    "\n",
    "signal = np.zeros((int(nf), int(na)), dtype=complex)\n",
    "\n",
    "\n",
    "# Short hand and helps with computational load\n",
    "\n",
    "ca = np.cos(np.radians(az))\n",
    "\n",
    "sa = np.sin(np.radians(az))\n",
    "\n",
    "\n",
    "# Calculate the wavenumber (rad/m)\n",
    "\n",
    "kc = 2 * pi * frequency / speed_of_light\n",
    "\n",
    "\n",
    "# Loop over all azimuth angles\n",
    "i = 0\n",
    "for a, c, s in zip(az, ca, sa):\n",
    "    \n",
    "    r_los = [c, s]\n",
    "    \n",
    "    for xt, yt, rt in zip(x_target, y_target, rcs):\n",
    "    \n",
    "        r_target = np.dot(r_los, [xt, yt])\n",
    "        \n",
    "        signal[:, i] += rt * np.exp(1j * 2.0 * kc * r_target)\n",
    "        \n",
    "    i += 1"
   ]
  },
  {
   "cell_type": "markdown",
   "metadata": {},
   "source": [
    "**Get the window coefficients**"
   ]
  },
  {
   "cell_type": "code",
   "execution_count": 16,
   "metadata": {},
   "outputs": [],
   "source": [
    "if window_type == 'Hanning':\n",
    "    \n",
    "    coefficients = np.outer(np.hanning(nf), np.hanning(na))\n",
    "    \n",
    "elif window_type == 'Hamming':\n",
    "    \n",
    "    coefficients = np.outer(np.hamming(nf), np.hamming(na))\n",
    "    \n",
    "else:\n",
    "    \n",
    "    coefficients = np.ones_like(signal)"
   ]
  },
  {
   "cell_type": "markdown",
   "metadata": {
    "tags": []
   },
   "source": [
    "**Apply the selected window**"
   ]
  },
  {
   "cell_type": "code",
   "execution_count": 17,
   "metadata": {},
   "outputs": [],
   "source": [
    "signal = signal * coefficients"
   ]
  },
  {
   "cell_type": "markdown",
   "metadata": {},
   "source": [
    "**Reconstruct the image**"
   ]
  },
  {
   "cell_type": "code",
   "execution_count": 18,
   "metadata": {},
   "outputs": [],
   "source": [
    "bp_image = bp.reconstruct(signal, sensor_x, sensor_y, sensor_z, range_center, x_image, y_image, z_image, frequency, fft_length)"
   ]
  },
  {
   "cell_type": "markdown",
   "metadata": {},
   "source": [
    "**Plot the backprojected image**"
   ]
  },
  {
   "cell_type": "code",
   "execution_count": 19,
   "metadata": {},
   "outputs": [
    {
     "data": {
      "image/png": "[encoded data removed]",
      "text/plain": [
       "<Figure size 1080x864 with 2 Axes>"
      ]
     },
     "metadata": {
      "needs_background": "light"
     },
     "output_type": "display_data"
    }
   ],
   "source": [
    "# Set the figure size\n",
    "\n",
    "plt.rcParams[\"figure.figsize\"] = (15, 12)\n",
    "\n",
    "\n",
    "\n",
    "# Plot the backprojected image\n",
    "\n",
    "plt.figure\n",
    "\n",
    "plt.pcolor(xi, yi, 20 * np.log10(np.abs(bp_image) / np.max(np.abs(bp_image))), cmap='jet', vmin=-abs(dynamic_range), vmax=0)\n",
    "\n",
    "\n",
    "\n",
    "# Set the title and labels\n",
    "\n",
    "plt.title('Back Projection', size=18)\n",
    "\n",
    "plt.xlabel('Range (m)', size=16)\n",
    "\n",
    "plt.ylabel('Cross Range (m)', size=16)\n",
    "\n",
    "\n",
    "\n",
    "# Make the axes equal\n",
    "\n",
    "plt.axis('equal')\n",
    "\n",
    "\n",
    "\n",
    "# Set the tick label size\n",
    "\n",
    "plt.tick_params(labelsize=16)\n",
    "\n",
    "\n",
    "\n",
    "# Turn on the colorbar and set the label\n",
    "\n",
    "cbar = plt.colorbar()\n",
    "\n",
    "cbar.set_label('Amplitude (dB)')\n",
    "\n",
    "\n",
    "\n",
    "# Show the figure\n",
    "\n",
    "plt.show()"
   ]
  },
  {
   "cell_type": "code",
   "execution_count": null,
   "metadata": {},
   "outputs": [],
   "source": []
  }
 ],
 "metadata": {
  "kernelspec": {
   "display_name": "Python 3 (ipykernel)",
   "language": "python",
   "name": "python3"
  },
  "language_info": {
   "codemirror_mode": {
    "name": "ipython",
    "version": 3
   },
   "file_extension": ".py",
   "mimetype": "text/x-python",
   "name": "python",
   "nbconvert_exporter": "python",
   "pygments_lexer": "ipython3",
   "version": "3.10.1"
  },
  "vscode": {
   "interpreter": {
    "hash": "916dbcbb3f70747c44a77c7bcd40155683ae19c65e1c03b4aa3499c5328201f1"
   }
  }
 },
 "nbformat": 4,
 "nbformat_minor": 4
}
