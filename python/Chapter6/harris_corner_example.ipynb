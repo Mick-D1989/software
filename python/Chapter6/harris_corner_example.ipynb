{
 "cells": [
  {
   "cell_type": "markdown",
   "metadata": {},
   "source": [
    "# Introduction to Synthetic Aperture Radar Using Python and MATLAB\n",
    "\n",
    "## by Andy Harrison - &copy; Artech House 2022\n",
    "\n",
    "---\n",
    "\n",
    "## Example 6.8.1 Harris Corner\n",
    "---"
   ]
  },
  {
   "cell_type": "markdown",
   "metadata": {},
   "source": [
    "**Import modules**"
   ]
  },
  {
   "cell_type": "code",
   "execution_count": 1,
   "metadata": {},
   "outputs": [],
   "source": [
    "import cv2\n",
    "\n",
    "import numpy as np"
   ]
  },
  {
   "cell_type": "markdown",
   "metadata": {},
   "source": [
    "**Helper function for displaying images**"
   ]
  },
  {
   "cell_type": "code",
   "execution_count": 2,
   "metadata": {},
   "outputs": [],
   "source": [
    "def imshow(image, windowName, nx, ny):\n",
    "    cv2.namedWindow(windowName, cv2.WINDOW_NORMAL)    # Create a new named window\n",
    "    cv2.moveWindow(windowName, 0, 0)                  # Put window @ (0, 0)\n",
    "    cv2.imshow(windowName, image)                     # Display the image\n",
    "    cv2.resizeWindow(windowName, nx, ny)              # Resize the window"
   ]
  },
  {
   "cell_type": "markdown",
   "metadata": {},
   "source": [
    "**Read the images**"
   ]
  },
  {
   "cell_type": "code",
   "execution_count": 3,
   "metadata": {},
   "outputs": [],
   "source": [
    "image1 = cv2.imread('ICEYE_Harris_1.jpg')\n",
    "\n",
    "image2 = cv2.imread('ICEYE_Harris_2.jpg')"
   ]
  },
  {
   "cell_type": "markdown",
   "metadata": {},
   "source": [
    "**Convert to grayscale**"
   ]
  },
  {
   "cell_type": "code",
   "execution_count": 4,
   "metadata": {},
   "outputs": [],
   "source": [
    "image2_gray = cv2.cvtColor(image1, cv2.COLOR_BGR2GRAY).astype(np.float32)\n",
    "\n",
    "image1_gray = cv2.cvtColor(image2, cv2.COLOR_BGR2GRAY).astype(np.float32)"
   ]
  },
  {
   "cell_type": "markdown",
   "metadata": {},
   "source": [
    "**Harris corners**"
   ]
  },
  {
   "cell_type": "code",
   "execution_count": 5,
   "metadata": {},
   "outputs": [],
   "source": [
    "distance1 = cv2.cornerHarris(image1_gray, 2, 3, 0.04)\n",
    "\n",
    "distance2 = cv2.cornerHarris(image2_gray, 2, 3, 0.04)"
   ]
  },
  {
   "cell_type": "markdown",
   "metadata": {},
   "source": [
    "**Dilate for marking corners**"
   ]
  },
  {
   "cell_type": "code",
   "execution_count": 6,
   "metadata": {},
   "outputs": [],
   "source": [
    "distance1 = cv2.dilate(distance1, None)\n",
    "\n",
    "distance2 = cv2.dilate(distance2, None)"
   ]
  },
  {
   "cell_type": "markdown",
   "metadata": {},
   "source": [
    "**Set the threshold, it may vary depending on the image**"
   ]
  },
  {
   "cell_type": "code",
   "execution_count": 7,
   "metadata": {},
   "outputs": [],
   "source": [
    "image2[distance1 > 0.1 * distance1.max()] = [0, 0, 255]\n",
    "\n",
    "image1[distance2 > 0.1 * distance2.max()] = [0, 0, 255]"
   ]
  },
  {
   "cell_type": "markdown",
   "metadata": {},
   "source": [
    "**Display the images**"
   ]
  },
  {
   "cell_type": "code",
   "execution_count": null,
   "metadata": {},
   "outputs": [],
   "source": [
    "imshow(image1, 'Harris Corner Image 1', 600, 600)\n",
    "\n",
    "imshow(image2, 'Harris Corner Image 2', 600, 600)\n",
    "\n",
    "cv2.waitKey()"
   ]
  }
 ],
 "metadata": {
  "kernelspec": {
   "display_name": "Python 3",
   "language": "python",
   "name": "python3"
  },
  "language_info": {
   "codemirror_mode": {
    "name": "ipython",
    "version": 3
   },
   "file_extension": ".py",
   "mimetype": "text/x-python",
   "name": "python",
   "nbconvert_exporter": "python",
   "pygments_lexer": "ipython3",
   "version": "3.8.5"
  }
 },
 "nbformat": 4,
 "nbformat_minor": 4
}
