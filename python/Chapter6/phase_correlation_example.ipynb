{
 "cells": [
  {
   "cell_type": "markdown",
   "metadata": {},
   "source": [
    "# Introduction to Synthetic Aperture Radar Using Python and MATLAB\n",
    "\n",
    "## by Andy Harrison - &copy; Artech House 2022\n",
    "\n",
    "---\n",
    "\n",
    "## Example 6.8.2 Phase Correlation\n",
    "---"
   ]
  },
  {
   "cell_type": "markdown",
   "metadata": {},
   "source": [
    "**Import modules**"
   ]
  },
  {
   "cell_type": "code",
   "execution_count": 1,
   "metadata": {},
   "outputs": [],
   "source": [
    "import cv2\n",
    "\n",
    "import numpy as np\n",
    "\n",
    "from scipy.signal import cheby1, freqs\n",
    "\n",
    "from scipy.ndimage import map_coordinates"
   ]
  },
  {
   "cell_type": "markdown",
   "metadata": {},
   "source": [
    "**Helper function for displaying images**"
   ]
  },
  {
   "cell_type": "code",
   "execution_count": 2,
   "metadata": {},
   "outputs": [],
   "source": [
    "def imshow(image, windowName, nx, ny):\n",
    "    cv2.namedWindow(windowName, cv2.WINDOW_NORMAL)    # Create a new named window\n",
    "    cv2.moveWindow(windowName, 0, 0)                  # Put window @ (0, 0)\n",
    "    cv2.imshow(windowName, image)                     # Display the image\n",
    "    cv2.resizeWindow(windowName, nx, ny)              # Resize the window"
   ]
  },
  {
   "cell_type": "markdown",
   "metadata": {},
   "source": [
    "**Log polar converstion**"
   ]
  },
  {
   "cell_type": "code",
   "execution_count": 3,
   "metadata": {},
   "outputs": [],
   "source": [
    "def log_polar(image):\n",
    "    \"\"\"\n",
    "    Calculate the log-polar conversion\n",
    "    \"\"\"\n",
    "    # Image dimensions\n",
    "    nx, ny = image.shape\n",
    "    \n",
    "\n",
    "    # Get the angles using meshgrid\n",
    "    _, theta = np.meshgrid(np.linspace(0, 1, ny), np.linspace(0, -np.pi, nx))\n",
    "    \n",
    "\n",
    "    # Calculate the log base\n",
    "    log_base = 10.0 ** (np.log10(np.sqrt((0.5 * nx) ** 2 + (0.5 * ny) ** 2)) / ny)\n",
    "    \n",
    "\n",
    "    # Calculate the radius based on the log base\n",
    "    radius = log_base ** np.arange(ny) - 1.0\n",
    "    \n",
    "\n",
    "    # Calculate the x and y coordinates\n",
    "    x = radius * np.sin(theta) + nx / 2\n",
    "    y = radius * np.cos(theta) + ny / 2\n",
    "    \n",
    "\n",
    "    # Map the image onto the coordinates\n",
    "    return log_base, map_coordinates(image, [x, y])"
   ]
  },
  {
   "cell_type": "markdown",
   "metadata": {},
   "source": [
    "**Perform scale, translation, and rotation of an image**"
   ]
  },
  {
   "cell_type": "code",
   "execution_count": 4,
   "metadata": {},
   "outputs": [],
   "source": [
    "def scale_translate_rotate(image, scale_x, scale_y, translate_x, translate_y, rotation):\n",
    "    \"\"\"\n",
    "    Scale, rotate, and translate an image\n",
    "    \"\"\"\n",
    "    height, width = image.shape[:2]\n",
    "\n",
    "    nh = int(np.round(1.2*height))\n",
    "    \n",
    "    nw = int(np.round(1.2*width))\n",
    "\n",
    "\n",
    "    # Scale\n",
    "    # image = cv2.resize(image, None, fx=scale_x, fy=scale_y, interpolation=cv2.INTER_CUBIC)\n",
    "    image = cv2.warpAffine(image, np.float32([[scale_x, 0, 0], [0, scale_y, 0]]), (nw, nh))\n",
    "    \n",
    "\n",
    "    # Translation\n",
    "    m = np.float32([[1, 0, translate_x], [0, 1, translate_y]])\n",
    "    image = cv2.warpAffine(image, m, (nw, nh))\n",
    "    \n",
    "\n",
    "    # Rotation\n",
    "    m = cv2.getRotationMatrix2D(((width - 1) / 2.0, (height - 1) / 2.0), rotation, 1)\n",
    "    image = cv2.warpAffine(image, m, (nw, nh))\n",
    "    \n",
    "\n",
    "    return image"
   ]
  },
  {
   "cell_type": "markdown",
   "metadata": {},
   "source": [
    "**Read an image**"
   ]
  },
  {
   "cell_type": "code",
   "execution_count": 5,
   "metadata": {},
   "outputs": [],
   "source": [
    "image1 = cv2.imread('ICEYE_Phase_Correlation.jpg')"
   ]
  },
  {
   "cell_type": "markdown",
   "metadata": {},
   "source": [
    "**Apply a scale, translation, and rotation**"
   ]
  },
  {
   "cell_type": "code",
   "execution_count": 6,
   "metadata": {},
   "outputs": [],
   "source": [
    "image2 = scale_translate_rotate(image1, 0.6, 0.6, 200, 100, 30)"
   ]
  },
  {
   "cell_type": "markdown",
   "metadata": {},
   "source": [
    "**Begin phase correlation - convert to grayscale**"
   ]
  },
  {
   "cell_type": "code",
   "execution_count": 7,
   "metadata": {},
   "outputs": [],
   "source": [
    "image1 = cv2.cvtColor(image1, cv2.COLOR_BGR2GRAY)\n",
    "\n",
    "image2 = cv2.cvtColor(image2, cv2.COLOR_BGR2GRAY)"
   ]
  },
  {
   "cell_type": "markdown",
   "metadata": {},
   "source": [
    "**Display both images**"
   ]
  },
  {
   "cell_type": "code",
   "execution_count": 8,
   "metadata": {},
   "outputs": [],
   "source": [
    "imshow(image1, 'Original Image', 600, 600)\n",
    "\n",
    "imshow(image2, 'Scaled, Translated, Rotated', 600, 600)"
   ]
  },
  {
   "cell_type": "markdown",
   "metadata": {},
   "source": [
    "**Find the log-polar transformed image and the log base**"
   ]
  },
  {
   "cell_type": "code",
   "execution_count": 9,
   "metadata": {},
   "outputs": [],
   "source": [
    "f1 = np.fft.fftshift(abs(np.fft.fft2(image1, image2.shape[:2])))\n",
    "\n",
    "f2 = np.fft.fftshift(abs(np.fft.fft2(image2, image2.shape[:2])))"
   ]
  },
  {
   "cell_type": "markdown",
   "metadata": {},
   "source": [
    "**2nd order Chebyshev bandstop filter**"
   ]
  },
  {
   "cell_type": "code",
   "execution_count": 10,
   "metadata": {},
   "outputs": [],
   "source": [
    "[b, a] = cheby1(2, 0.1, [0.01, 0.5], 'bandstop', analog=True)\n",
    "\n",
    "w, h1 = freqs(b, a, np.linspace(-1, 1, f2.shape[0]))\n",
    "\n",
    "w, h2 = freqs(b, a, np.linspace(-1, 1, f2.shape[1]))"
   ]
  },
  {
   "cell_type": "markdown",
   "metadata": {},
   "source": [
    "**Create and apply the 2D filter**"
   ]
  },
  {
   "cell_type": "code",
   "execution_count": 11,
   "metadata": {},
   "outputs": [],
   "source": [
    "h = np.outer(1 - abs(h1), 1 - abs(h2))\n",
    "\n",
    "f1 *= (1 - h)\n",
    "\n",
    "f2 *= (1 - h)"
   ]
  },
  {
   "cell_type": "markdown",
   "metadata": {},
   "source": [
    "**Find the log-polar transformed image and the log base**"
   ]
  },
  {
   "cell_type": "code",
   "execution_count": 12,
   "metadata": {},
   "outputs": [],
   "source": [
    "base, log_polar_original = log_polar(f1)\n",
    "\n",
    "base, log_polar_test = log_polar(f2)"
   ]
  },
  {
   "cell_type": "markdown",
   "metadata": {},
   "source": [
    "**Calculate the cross-power spectrum of the original and test images**"
   ]
  },
  {
   "cell_type": "code",
   "execution_count": 13,
   "metadata": {},
   "outputs": [],
   "source": [
    "f1 = np.fft.fft2(log_polar_original)\n",
    "\n",
    "f2 = np.fft.fft2(log_polar_test)\n",
    "\n",
    "r0 = abs(f1) * abs(f2)\n",
    "\n",
    "cross_power_spectrum = abs(np.fft.ifft2((f1 * f2.conjugate()) / r0))"
   ]
  },
  {
   "cell_type": "markdown",
   "metadata": {},
   "source": [
    "**Calculate the scale and rotation factors**"
   ]
  },
  {
   "cell_type": "code",
   "execution_count": 14,
   "metadata": {},
   "outputs": [],
   "source": [
    "angle, scale = np.unravel_index(np.argmax(cross_power_spectrum), cross_power_spectrum.shape)\n",
    "\n",
    "\n",
    "# Calculate the scale factor\n",
    "scale = base ** scale\n",
    "\n",
    "\n",
    "# Calculate the rotation angle\n",
    "angle = 180.0 * angle / cross_power_spectrum.shape[0]\n",
    "\n",
    "\n",
    "# Adjust the scale factor and rotation angle\n",
    "if scale > 1.8:\n",
    "    cross_power_spectrum = abs(np.fft.ifft2((f2 * f1.conjugate()) / r0))\n",
    "    \n",
    "    angle, scale = np.unravel_index(np.argmax(cross_power_spectrum), cross_power_spectrum.shape)\n",
    "    \n",
    "    \n",
    "    angle = -180.0 * angle / cross_power_spectrum.shape[0]\n",
    "    scale = 1.0 / (base ** scale)\n",
    "    \n",
    "\n",
    "# Wrap the rotation angle (-90, 90]\n",
    "angle = (angle + 90) % 180 - 90"
   ]
  },
  {
   "cell_type": "markdown",
   "metadata": {},
   "source": [
    "**Zoom the test image using the scale factor**"
   ]
  },
  {
   "cell_type": "code",
   "execution_count": 15,
   "metadata": {},
   "outputs": [],
   "source": [
    "image_transformed = scale_translate_rotate(image2, 1, 1, 0, 0, angle)\n",
    "\n",
    "image_transformed = scale_translate_rotate(image2, 1./scale, 1./scale, 0, 0, 0)"
   ]
  },
  {
   "cell_type": "markdown",
   "metadata": {},
   "source": [
    "**Need to handle image shapes for rotated and zoomed images**"
   ]
  },
  {
   "cell_type": "code",
   "execution_count": 16,
   "metadata": {},
   "outputs": [],
   "source": [
    "nxo, nyo = image1.shape\n",
    "\n",
    "nxt, nyt = image_transformed.shape\n",
    "\n",
    "image_transformed = image_transformed[int((nxt - nxo) / 2):int((nxt + nxo) / 2), \n",
    "                                      int((nyt - nyo) / 2):int((nyt + nyo) / 2)]"
   ]
  },
  {
   "cell_type": "markdown",
   "metadata": {},
   "source": [
    "**Calculate the cross-power spectrum of the original and transformed images**"
   ]
  },
  {
   "cell_type": "code",
   "execution_count": 17,
   "metadata": {},
   "outputs": [],
   "source": [
    "image_original_spectrum = np.fft.fft2(image1)\n",
    "\n",
    "image_transformed_spectrum = np.fft.fft2(image_transformed)\n",
    "\n",
    "translation = abs(np.fft.ifft2((image_original_spectrum * image_transformed_spectrum.conjugate()) / \n",
    "                               (abs(image_original_spectrum) * abs(image_transformed_spectrum))))"
   ]
  },
  {
   "cell_type": "markdown",
   "metadata": {},
   "source": [
    "**Find the translation vector**"
   ]
  },
  {
   "cell_type": "code",
   "execution_count": 18,
   "metadata": {},
   "outputs": [],
   "source": [
    "translate_x, translate_y = np.unravel_index(np.argmax(translation), translation.shape)"
   ]
  },
  {
   "cell_type": "markdown",
   "metadata": {},
   "source": [
    "**Force translation vector in the range of image indices**"
   ]
  },
  {
   "cell_type": "code",
   "execution_count": 19,
   "metadata": {},
   "outputs": [],
   "source": [
    "if translate_x > np.floor(nxo / 2):\n",
    "    translate_x -= nxo\n",
    "\n",
    "if translate_y > np.floor(nyo / 2):\n",
    "    translate_y -= nyo"
   ]
  },
  {
   "cell_type": "markdown",
   "metadata": {},
   "source": [
    "**Translate the transformed imaged**"
   ]
  },
  {
   "cell_type": "code",
   "execution_count": 20,
   "metadata": {},
   "outputs": [],
   "source": [
    "image_transformed = scale_translate_rotate(image_transformed, 1, 1, translate_x, translate_y, 0)"
   ]
  },
  {
   "cell_type": "markdown",
   "metadata": {},
   "source": [
    "**Correct the translation vector based on the rotation angle**"
   ]
  },
  {
   "cell_type": "code",
   "execution_count": 21,
   "metadata": {},
   "outputs": [],
   "source": [
    "if angle > 0.0:\n",
    "    offset = int(int(image2.shape[1] / scale) * np.sin(np.radians(angle)))\n",
    "    translate_x, translate_y = translate_y, offset + translate_x\n",
    "\n",
    "elif angle < 0.0:\n",
    "    offset = int(int(image2.shape[0] / scale) * np.sin(np.radians(angle)))\n",
    "    translate_x, translate_y = offset + translate_y, offset + translate_x"
   ]
  },
  {
   "cell_type": "markdown",
   "metadata": {},
   "source": [
    "**Correct the scale factor**"
   ]
  },
  {
   "cell_type": "code",
   "execution_count": 22,
   "metadata": {},
   "outputs": [],
   "source": [
    "scale = (image2.shape[1] - 1) / (int(image2.shape[1] / scale) - 1)"
   ]
  },
  {
   "cell_type": "markdown",
   "metadata": {},
   "source": [
    "**Transform the image and display the results**"
   ]
  },
  {
   "cell_type": "code",
   "execution_count": 23,
   "metadata": {},
   "outputs": [
    {
     "data": {
      "text/plain": [
       "13"
      ]
     },
     "execution_count": 23,
     "metadata": {},
     "output_type": "execute_result"
    }
   ],
   "source": [
    "image_transformed = scale_translate_rotate(image2, 1./scale, 1./scale, -20, -10, angle)\n",
    "\n",
    "imshow(image_transformed, 'Transformed Image', 600, 600)\n",
    "\n",
    "cv2.waitKey()"
   ]
  }
 ],
 "metadata": {
  "kernelspec": {
   "display_name": "Python 3 (ipykernel)",
   "language": "python",
   "name": "python3"
  },
  "language_info": {
   "codemirror_mode": {
    "name": "ipython",
    "version": 3
   },
   "file_extension": ".py",
   "mimetype": "text/x-python",
   "name": "python",
   "nbconvert_exporter": "python",
   "pygments_lexer": "ipython3",
   "version": "3.10.1"
  }
 },
 "nbformat": 4,
 "nbformat_minor": 4
}
