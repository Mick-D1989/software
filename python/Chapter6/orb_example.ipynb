{
 "cells": [
  {
   "cell_type": "markdown",
   "metadata": {},
   "source": [
    "# Introduction to Synthetic Aperture Radar Using Python and MATLAB\n",
    "\n",
    "## by Andy Harrison - &copy; Artech House 2022\n",
    "\n",
    "---\n",
    "\n",
    "## Example 6.8.4 ORB\n",
    "---"
   ]
  },
  {
   "cell_type": "markdown",
   "metadata": {},
   "source": [
    "**Import modules**"
   ]
  },
  {
   "cell_type": "code",
   "execution_count": 1,
   "metadata": {},
   "outputs": [],
   "source": [
    "import cv2\n",
    "\n",
    "import numpy as np"
   ]
  },
  {
   "cell_type": "markdown",
   "metadata": {},
   "source": [
    "**Helper function for displaying images**"
   ]
  },
  {
   "cell_type": "code",
   "execution_count": 2,
   "metadata": {},
   "outputs": [],
   "source": [
    "def imshow(image, windowName, nx, ny):\n",
    "    cv2.namedWindow(windowName, cv2.WINDOW_NORMAL)    # Create a new named window\n",
    "    cv2.moveWindow(windowName, 0, 0)                  # Put window @ (0, 0)\n",
    "    cv2.imshow(windowName, image)                     # Display the image\n",
    "    cv2.resizeWindow(windowName, nx, ny)              # Resize the window"
   ]
  },
  {
   "cell_type": "markdown",
   "metadata": {},
   "source": [
    "**Read the original image**"
   ]
  },
  {
   "cell_type": "code",
   "execution_count": 3,
   "metadata": {},
   "outputs": [],
   "source": [
    "image1 = cv2.imread('ICEYE_ORB.jpg')"
   ]
  },
  {
   "cell_type": "markdown",
   "metadata": {},
   "source": [
    "**Define the source and destination triangles**"
   ]
  },
  {
   "cell_type": "code",
   "execution_count": 4,
   "metadata": {},
   "outputs": [],
   "source": [
    "srcTri = np.array( [[0, 0], [image1.shape[1] - 1, 0], [0, image1.shape[0] - 1]] ).astype(np.float32)\n",
    "\n",
    "dstTri = np.array( [[0, image1.shape[1]*0.1], [image1.shape[1]*0.78, image1.shape[0]*0.1], [image1.shape[1]*0.2, image1.shape[0]*0.85]] ).astype(np.float32)"
   ]
  },
  {
   "cell_type": "markdown",
   "metadata": {},
   "source": [
    "**Get the affine transform**"
   ]
  },
  {
   "cell_type": "code",
   "execution_count": 5,
   "metadata": {},
   "outputs": [],
   "source": [
    "warp_mat = cv2.getAffineTransform(srcTri, dstTri)\n",
    "\n",
    "warp_dst = cv2.warpAffine(image1, warp_mat, (image1.shape[1], image1.shape[0]))"
   ]
  },
  {
   "cell_type": "markdown",
   "metadata": {},
   "source": [
    "**Rotating the image after Warp**"
   ]
  },
  {
   "cell_type": "code",
   "execution_count": 6,
   "metadata": {},
   "outputs": [],
   "source": [
    "center = (warp_dst.shape[1] // 2, warp_dst.shape[0] // 2)\n",
    "\n",
    "angle = 17\n",
    "\n",
    "scale = 0.86\n",
    "\n",
    "rot_mat = cv2.getRotationMatrix2D(center, angle, scale)\n",
    "\n",
    "warp_rotate_dst = cv2.warpAffine(warp_dst, rot_mat, (warp_dst.shape[1], warp_dst.shape[0]))"
   ]
  },
  {
   "cell_type": "markdown",
   "metadata": {},
   "source": [
    "**Display the original and warped images**"
   ]
  },
  {
   "cell_type": "code",
   "execution_count": 7,
   "metadata": {},
   "outputs": [],
   "source": [
    "imshow(image1, 'Source Image', 600, 600)\n",
    "\n",
    "imshow(warp_rotate_dst, 'Warped Image', 600, 600)\n",
    "\n",
    "image1s = image1"
   ]
  },
  {
   "cell_type": "markdown",
   "metadata": {},
   "source": [
    "**Convert images to grayscale**"
   ]
  },
  {
   "cell_type": "code",
   "execution_count": 8,
   "metadata": {},
   "outputs": [],
   "source": [
    "image2 = cv2.cvtColor(image1, cv2.COLOR_BGR2GRAY)\n",
    "\n",
    "image1 = cv2.cvtColor(warp_rotate_dst, cv2.COLOR_BGR2GRAY)\n",
    "\n",
    "\n",
    "# ORB\n",
    "\n",
    "orb = cv2.ORB_create()"
   ]
  },
  {
   "cell_type": "markdown",
   "metadata": {},
   "source": [
    "**Find the keypoints with ORB**"
   ]
  },
  {
   "cell_type": "code",
   "execution_count": 9,
   "metadata": {},
   "outputs": [],
   "source": [
    "kp1 = orb.detect(image1, None)\n",
    "\n",
    "kp2 = orb.detect(image2, None)"
   ]
  },
  {
   "cell_type": "markdown",
   "metadata": {},
   "source": [
    "**compute the descriptors with ORB**"
   ]
  },
  {
   "cell_type": "code",
   "execution_count": 10,
   "metadata": {},
   "outputs": [],
   "source": [
    "keypoints_1, descriptors_1 = orb.compute(image1, kp1)\n",
    "\n",
    "keypoints_2, descriptors_2 = orb.compute(image2, kp2)"
   ]
  },
  {
   "cell_type": "markdown",
   "metadata": {},
   "source": [
    "**Find feature matches**"
   ]
  },
  {
   "cell_type": "code",
   "execution_count": 11,
   "metadata": {},
   "outputs": [],
   "source": [
    "bf = cv2.BFMatcher(cv2.NORM_L1, crossCheck=True)\n",
    "\n",
    "matches = bf.match(descriptors_1, descriptors_2)\n",
    "\n",
    "matches = sorted(matches, key=lambda x: x.distance)"
   ]
  },
  {
   "cell_type": "markdown",
   "metadata": {},
   "source": [
    "**Display the matches**"
   ]
  },
  {
   "cell_type": "code",
   "execution_count": 12,
   "metadata": {},
   "outputs": [],
   "source": [
    "image3 = cv2.drawMatches(warp_rotate_dst, keypoints_1, image1s, keypoints_2, matches[:20], image2, flags=2)\n",
    "\n",
    "imshow(image3, 'Matches', 600, 600)"
   ]
  },
  {
   "cell_type": "markdown",
   "metadata": {},
   "source": [
    "**Get the coordinates of the keypoints**"
   ]
  },
  {
   "cell_type": "code",
   "execution_count": 13,
   "metadata": {},
   "outputs": [],
   "source": [
    "list_kp1 = np.float32([keypoints_1[mat.queryIdx].pt for mat in matches]).reshape(-1, 1, 2)\n",
    "\n",
    "list_kp2 = np.float32([keypoints_2[mat.trainIdx].pt for mat in matches]).reshape(-1, 1, 2)"
   ]
  },
  {
   "cell_type": "markdown",
   "metadata": {},
   "source": [
    "**With coordinates of keypoints, find homography**"
   ]
  },
  {
   "cell_type": "code",
   "execution_count": 14,
   "metadata": {},
   "outputs": [],
   "source": [
    "h, status = cv2.findHomography(list_kp1[0:5], list_kp2[0:5], cv2.RANSAC, 5.0)"
   ]
  },
  {
   "cell_type": "markdown",
   "metadata": {},
   "source": [
    "**Warp source image to destination based on homography**"
   ]
  },
  {
   "cell_type": "code",
   "execution_count": null,
   "metadata": {},
   "outputs": [],
   "source": [
    "image3 = cv2.warpPerspective(warp_rotate_dst, h, (image2.shape[1], image2.shape[0]))\n",
    "\n",
    "imshow(image3, 'Final Image', 600, 600)\n",
    "\n",
    "cv2.waitKey()"
   ]
  }
 ],
 "metadata": {
  "kernelspec": {
   "display_name": "Python 3",
   "language": "python",
   "name": "python3"
  },
  "language_info": {
   "codemirror_mode": {
    "name": "ipython",
    "version": 3
   },
   "file_extension": ".py",
   "mimetype": "text/x-python",
   "name": "python",
   "nbconvert_exporter": "python",
   "pygments_lexer": "ipython3",
   "version": "3.8.5"
  }
 },
 "nbformat": 4,
 "nbformat_minor": 4
}
