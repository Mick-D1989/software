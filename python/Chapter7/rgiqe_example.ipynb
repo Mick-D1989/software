{
 "cells": [
  {
   "cell_type": "markdown",
   "id": "a06710f3",
   "metadata": {},
   "source": [
    "# Introduction to Synthetic Aperture Radar Using Python and MATLAB\n",
    "\n",
    "## by Andy Harrison - &copy; Artech House 2022\n",
    "\n",
    "---\n",
    "\n",
    "## Example 7.6.6 Radar General Image Quality Equation\n",
    "---"
   ]
  },
  {
   "cell_type": "markdown",
   "id": "573bda20",
   "metadata": {},
   "source": [
    "**Import modules**"
   ]
  },
  {
   "cell_type": "code",
   "execution_count": 1,
   "id": "a452247a",
   "metadata": {},
   "outputs": [],
   "source": [
    "import numpy as np"
   ]
  },
  {
   "cell_type": "markdown",
   "id": "30a7936b",
   "metadata": {},
   "source": [
    "**Define the information content**"
   ]
  },
  {
   "cell_type": "code",
   "execution_count": 2,
   "id": "6803d6c0",
   "metadata": {},
   "outputs": [],
   "source": [
    "def rgiqe(delta_az, delta_r, grazing_angle, nesz):\n",
    "    \"\"\"\n",
    "    Calculate the information content.\n",
    "    :param delta_az: The resolution in the azimuth direction (m).\n",
    "    :param delta_r: The resolution in the range direction (m).\n",
    "    :param grazing_angle: The grazing angle (deg).\n",
    "    :param nesz: The NESZ (dB).\n",
    "    :return: The information content (bits/m^2).\n",
    "    \"\"\"\n",
    "    \n",
    "    # Calculate the support bands\n",
    "    Ba = 1 / delta_az \n",
    "\n",
    "    Brg = 1 / delta_r\n",
    "      \n",
    "    \n",
    "    # Convert NESZ to linear units\n",
    "    nesz = 10**(nesz / 10)\n",
    "    \n",
    "    \n",
    "    # Calculate the information content (bits/m^2)\n",
    "    return Ba * Brg * np.cos(np.radians(grazing_angle)) * np.log2(1 + 1 / nesz)    "
   ]
  },
  {
   "cell_type": "markdown",
   "id": "7de05a58",
   "metadata": {},
   "source": [
    "**Stripmap Mode**"
   ]
  },
  {
   "cell_type": "code",
   "execution_count": 3,
   "id": "8178c1d0",
   "metadata": {},
   "outputs": [
    {
     "name": "stdout",
     "output_type": "stream",
     "text": [
      "Stripmap RGIQE 2.22\n"
     ]
    }
   ],
   "source": [
    "# Set the azimuth resolution (m)\n",
    "delta_az = 0.5\n",
    "\n",
    "\n",
    "# Set the range resolution (m)\n",
    "delta_r = 3\n",
    "\n",
    "\n",
    "# Set the grazing angle (deg)\n",
    "grazing_angle = 60\n",
    "\n",
    "\n",
    "# Set the NESZ (dB)\n",
    "nesz = -20\n",
    "\n",
    "\n",
    "# Display the information content\n",
    "print(f'Stripmap RGIQE {rgiqe(delta_az, delta_r, grazing_angle, nesz):0.2f}')"
   ]
  },
  {
   "cell_type": "markdown",
   "id": "97c5b449",
   "metadata": {},
   "source": [
    "**Spotlight Mode**"
   ]
  },
  {
   "cell_type": "code",
   "execution_count": 4,
   "id": "df936b3f",
   "metadata": {},
   "outputs": [
    {
     "name": "stdout",
     "output_type": "stream",
     "text": [
      "Spotlight RGIQE 23.07\n"
     ]
    }
   ],
   "source": [
    "# Set the azimuth resolution (m)\n",
    "delta_az = 0.5\n",
    "\n",
    "\n",
    "# Set the range resolution (m)\n",
    "delta_r = 0.25\n",
    "\n",
    "\n",
    "# Set the grazing angle (deg)\n",
    "grazing_angle = 55\n",
    "\n",
    "\n",
    "# Set the NESZ (dB)\n",
    "nesz = -15\n",
    "\n",
    "\n",
    "# Display the information content\n",
    "print(f'Spotlight RGIQE {rgiqe(delta_az, delta_r, grazing_angle, nesz):0.2f}')"
   ]
  },
  {
   "cell_type": "markdown",
   "id": "a673df44",
   "metadata": {},
   "source": [
    "**Scan Mode**"
   ]
  },
  {
   "cell_type": "code",
   "execution_count": 5,
   "id": "2bcd1a7b",
   "metadata": {},
   "outputs": [
    {
     "name": "stdout",
     "output_type": "stream",
     "text": [
      "Scan RGIQE 0.10\n"
     ]
    }
   ],
   "source": [
    "# Set the azimuth resolution (m)\n",
    "delta_az = 5\n",
    "\n",
    "\n",
    "# Set the range resolution (m)\n",
    "delta_r = 5\n",
    "\n",
    "\n",
    "# Set the grazing angle (deg)\n",
    "grazing_angle = 70\n",
    "\n",
    "\n",
    "# Set the NESZ (dB)\n",
    "nesz = -22\n",
    "\n",
    "\n",
    "# Display the information content\n",
    "print(f'Scan RGIQE {rgiqe(delta_az, delta_r, grazing_angle, nesz):0.2f}')"
   ]
  }
 ],
 "metadata": {
  "kernelspec": {
   "display_name": "Python 3 (ipykernel)",
   "language": "python",
   "name": "python3"
  },
  "language_info": {
   "codemirror_mode": {
    "name": "ipython",
    "version": 3
   },
   "file_extension": ".py",
   "mimetype": "text/x-python",
   "name": "python",
   "nbconvert_exporter": "python",
   "pygments_lexer": "ipython3",
   "version": "3.10.1"
  }
 },
 "nbformat": 4,
 "nbformat_minor": 5
}
