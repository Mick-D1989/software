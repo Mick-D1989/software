{
 "cells": [
  {
   "cell_type": "markdown",
   "id": "89e2c921",
   "metadata": {},
   "source": [
    "# Introduction to Synthetic Aperture Radar Using Python and MATLAB\n",
    "\n",
    "## by Andy Harrison - &copy; Artech House 2022\n",
    "\n",
    "---\n",
    "\n",
    "## Example 7.6.5 Unambiguous Range\n",
    "---"
   ]
  },
  {
   "cell_type": "markdown",
   "id": "624d3e7d",
   "metadata": {},
   "source": [
    "**Import modules**"
   ]
  },
  {
   "cell_type": "code",
   "execution_count": 1,
   "id": "c83d5833",
   "metadata": {},
   "outputs": [],
   "source": [
    "import numpy as np\n",
    "\n",
    "from scipy.constants import speed_of_light"
   ]
  },
  {
   "cell_type": "markdown",
   "id": "83200a7d",
   "metadata": {},
   "source": [
    "**Set the platform altitude (m)**"
   ]
  },
  {
   "cell_type": "code",
   "execution_count": 2,
   "id": "da064c54",
   "metadata": {},
   "outputs": [],
   "source": [
    "altitude = 500e3"
   ]
  },
  {
   "cell_type": "markdown",
   "id": "e6575ec4",
   "metadata": {},
   "source": [
    "**Set the PRF (Hz)**"
   ]
  },
  {
   "cell_type": "code",
   "execution_count": 3,
   "id": "dc8382a5",
   "metadata": {},
   "outputs": [],
   "source": [
    "prf = 1e3"
   ]
  },
  {
   "cell_type": "markdown",
   "id": "423be164",
   "metadata": {},
   "source": [
    "**Set the slant range to the scene (m)**"
   ]
  },
  {
   "cell_type": "code",
   "execution_count": 4,
   "id": "647c8264",
   "metadata": {},
   "outputs": [],
   "source": [
    "slant_range = 750e3"
   ]
  },
  {
   "cell_type": "markdown",
   "id": "d22384d5",
   "metadata": {},
   "source": [
    "**Calculate the number of pulses to extend the range to the target**"
   ]
  },
  {
   "cell_type": "code",
   "execution_count": 5,
   "id": "b3a8d689",
   "metadata": {},
   "outputs": [
    {
     "name": "stdout",
     "output_type": "stream",
     "text": [
      "Number of pulses extended range 5\n"
     ]
    }
   ],
   "source": [
    "N = np.ceil(2 * slant_range / speed_of_light * prf - 1/2)\n",
    "\n",
    "print(f'Number of pulses extended range {int(N)}')"
   ]
  },
  {
   "cell_type": "markdown",
   "id": "9cc3609d",
   "metadata": {},
   "source": [
    "**Calculate the number of pulses to eclipse the nadir return**"
   ]
  },
  {
   "cell_type": "code",
   "execution_count": 6,
   "id": "ef27374f",
   "metadata": {},
   "outputs": [
    {
     "name": "stdout",
     "output_type": "stream",
     "text": [
      "Number of pulses nadir 4\n"
     ]
    }
   ],
   "source": [
    "M = np.ceil((N + 1/2) * altitude / slant_range)\n",
    "\n",
    "print(f'Number of pulses nadir {int(M)}')"
   ]
  }
 ],
 "metadata": {
  "kernelspec": {
   "display_name": "Python 3 (ipykernel)",
   "language": "python",
   "name": "python3"
  },
  "language_info": {
   "codemirror_mode": {
    "name": "ipython",
    "version": 3
   },
   "file_extension": ".py",
   "mimetype": "text/x-python",
   "name": "python",
   "nbconvert_exporter": "python",
   "pygments_lexer": "ipython3",
   "version": "3.10.1"
  }
 },
 "nbformat": 4,
 "nbformat_minor": 5
}
