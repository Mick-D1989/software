{
 "cells": [
  {
   "cell_type": "markdown",
   "metadata": {
    "id": "8rmpCcDss8IL"
   },
   "source": [
    "# Introduction to Synthetic Aperture Radar Using Python and MATLAB\n",
    "\n",
    "## by Andy Harrison - &copy; Artech House 2022\n",
    "\n",
    "---\n",
    "\n",
    "## Example 2.12.13 Spotlight SAR Signal-to-Noise Ratio\n",
    "---"
   ]
  },
  {
   "cell_type": "markdown",
   "metadata": {
    "id": "JFPTd4_P5WZm"
   },
   "source": [
    "**Import modules**"
   ]
  },
  {
   "cell_type": "code",
   "execution_count": 1,
   "metadata": {
    "id": "gZ11fHXD7vlr"
   },
   "outputs": [],
   "source": [
    "%matplotlib inline\n",
    "\n",
    "import numpy as np\n",
    "\n",
    "from scipy.constants import speed_of_light, pi, Boltzmann\n",
    "\n",
    "from matplotlib import pyplot as plt"
   ]
  },
  {
   "cell_type": "markdown",
   "metadata": {
    "id": "gZ11fHXD7vlr"
   },
   "source": [
    "**Set the average transmitted power (W)**"
   ]
  },
  {
   "cell_type": "code",
   "execution_count": 2,
   "metadata": {
    "id": "gZ11fHXD7vlr"
   },
   "outputs": [],
   "source": [
    "average_power = 1e3"
   ]
  },
  {
   "cell_type": "markdown",
   "metadata": {
    "id": "gZ11fHXD7vlr"
   },
   "source": [
    "**Set the antenna effective aperture (m^2)**"
   ]
  },
  {
   "cell_type": "code",
   "execution_count": 3,
   "metadata": {
    "id": "gZ11fHXD7vlr"
   },
   "outputs": [],
   "source": [
    "effective_aperture = 0.5"
   ]
  },
  {
   "cell_type": "markdown",
   "metadata": {
    "id": "gZ11fHXD7vlr"
   },
   "source": [
    "**Set the target radar cross section (m^2)**"
   ]
  },
  {
   "cell_type": "code",
   "execution_count": 4,
   "metadata": {
    "id": "gZ11fHXD7vlr"
   },
   "outputs": [],
   "source": [
    "rcs = 0.1"
   ]
  },
  {
   "cell_type": "markdown",
   "metadata": {
    "id": "gZ11fHXD7vlr"
   },
   "source": [
    "**Set the pulsewidth (s)**"
   ]
  },
  {
   "cell_type": "code",
   "execution_count": 5,
   "metadata": {
    "id": "gZ11fHXD7vlr"
   },
   "outputs": [],
   "source": [
    "pulsewidth = 10e-6"
   ]
  },
  {
   "cell_type": "markdown",
   "metadata": {
    "id": "gZ11fHXD7vlr"
   },
   "source": [
    "**Set the operating frequency (Hz)**"
   ]
  },
  {
   "cell_type": "code",
   "execution_count": 6,
   "metadata": {
    "id": "gZ11fHXD7vlr"
   },
   "outputs": [],
   "source": [
    "operating_frequency = 12e9"
   ]
  },
  {
   "cell_type": "markdown",
   "metadata": {
    "id": "gZ11fHXD7vlr"
   },
   "source": [
    "**Set the synthetic aperture length (m)**"
   ]
  },
  {
   "cell_type": "code",
   "execution_count": 7,
   "metadata": {
    "id": "gZ11fHXD7vlr"
   },
   "outputs": [],
   "source": [
    "aperture_length = 500"
   ]
  },
  {
   "cell_type": "markdown",
   "metadata": {
    "id": "gZ11fHXD7vlr"
   },
   "source": [
    "**Set the system temperature (K)**"
   ]
  },
  {
   "cell_type": "code",
   "execution_count": 8,
   "metadata": {
    "id": "gZ11fHXD7vlr"
   },
   "outputs": [],
   "source": [
    "system_temperature = 290"
   ]
  },
  {
   "cell_type": "markdown",
   "metadata": {
    "id": "gZ11fHXD7vlr"
   },
   "source": [
    "**Set the receiver bandwidth (Hz)**"
   ]
  },
  {
   "cell_type": "code",
   "execution_count": 9,
   "metadata": {
    "id": "gZ11fHXD7vlr"
   },
   "outputs": [],
   "source": [
    "receiver_bandwidth = 100e6"
   ]
  },
  {
   "cell_type": "markdown",
   "metadata": {
    "id": "gZ11fHXD7vlr"
   },
   "source": [
    "**Set the pulse repetition frequency (Hz)**"
   ]
  },
  {
   "cell_type": "code",
   "execution_count": 10,
   "metadata": {
    "id": "gZ11fHXD7vlr"
   },
   "outputs": [],
   "source": [
    "prf = 10"
   ]
  },
  {
   "cell_type": "markdown",
   "metadata": {
    "id": "gZ11fHXD7vlr"
   },
   "source": [
    "**Set the noise figure (linear)**"
   ]
  },
  {
   "cell_type": "code",
   "execution_count": 11,
   "metadata": {
    "id": "gZ11fHXD7vlr"
   },
   "outputs": [],
   "source": [
    "noise_figure = 10**(4/10)"
   ]
  },
  {
   "cell_type": "markdown",
   "metadata": {
    "id": "gZ11fHXD7vlr"
   },
   "source": [
    "**Set the unambiguous range (m)**"
   ]
  },
  {
   "cell_type": "code",
   "execution_count": 12,
   "metadata": {
    "id": "gZ11fHXD7vlr"
   },
   "outputs": [],
   "source": [
    "unambiguous_range = 250e3"
   ]
  },
  {
   "cell_type": "markdown",
   "metadata": {
    "id": "gZ11fHXD7vlr"
   },
   "source": [
    "**Set the platform velocity (m/s)**"
   ]
  },
  {
   "cell_type": "code",
   "execution_count": 13,
   "metadata": {
    "id": "gZ11fHXD7vlr"
   },
   "outputs": [],
   "source": [
    "velocity = 250"
   ]
  },
  {
   "cell_type": "markdown",
   "metadata": {
    "id": "gZ11fHXD7vlr"
   },
   "source": [
    "**Set the slant range to imaging area (m)**"
   ]
  },
  {
   "cell_type": "code",
   "execution_count": 14,
   "metadata": {
    "id": "gZ11fHXD7vlr"
   },
   "outputs": [],
   "source": [
    "slant_range = np.linspace(1e3, 10e3)"
   ]
  },
  {
   "cell_type": "markdown",
   "metadata": {
    "id": "gZ11fHXD7vlr"
   },
   "source": [
    "**Set the losses (linear)**"
   ]
  },
  {
   "cell_type": "code",
   "execution_count": 15,
   "metadata": {
    "id": "gZ11fHXD7vlr"
   },
   "outputs": [],
   "source": [
    "loss_system = 10**(9/10)"
   ]
  },
  {
   "cell_type": "markdown",
   "metadata": {
    "id": "gZ11fHXD7vlr"
   },
   "source": [
    "**Set the processing losses (linear)**"
   ]
  },
  {
   "cell_type": "code",
   "execution_count": 16,
   "metadata": {
    "id": "gZ11fHXD7vlr"
   },
   "outputs": [],
   "source": [
    "loss_processing = 10**(12/10)"
   ]
  },
  {
   "cell_type": "markdown",
   "metadata": {
    "id": "gZ11fHXD7vlr"
   },
   "source": [
    "**Calculate the wavelength (m)**"
   ]
  },
  {
   "cell_type": "code",
   "execution_count": 17,
   "metadata": {
    "id": "gZ11fHXD7vlr"
   },
   "outputs": [],
   "source": [
    "wavelength = speed_of_light / operating_frequency"
   ]
  },
  {
   "cell_type": "markdown",
   "metadata": {
    "id": "z7mPvla36ilV"
   },
   "source": [
    "**Calculate the Signal-to-Noise Ratio**"
   ]
  },
  {
   "cell_type": "code",
   "execution_count": 18,
   "metadata": {
    "id": "z7mPvla36ilV"
   },
   "outputs": [],
   "source": [
    "snr       = average_power * effective_aperture**2 * rcs / (4 * pi * wavelength**2 * slant_range**4 * system_temperature * receiver_bandwidth * Boltzmann * noise_figure * loss_system)\n",
    "\n",
    "snr_image = average_power * effective_aperture**2 * rcs  * pulsewidth * aperture_length * prf / (4 * pi * wavelength**2 * slant_range**4 * system_temperature * Boltzmann * noise_figure * loss_processing * loss_system * velocity)\n"
   ]
  },
  {
   "cell_type": "markdown",
   "metadata": {
    "id": "z7mPvla36ilV"
   },
   "source": [
    "**Plot the Results**"
   ]
  },
  {
   "cell_type": "code",
   "execution_count": 19,
   "metadata": {
    "scrolled": false
   },
   "outputs": [
    {
     "data": {
      "image/png": "[encoded data removed]",
      "text/plain": [
       "<Figure size 864x648 with 1 Axes>"
      ]
     },
     "metadata": {
      "needs_background": "light"
     },
     "output_type": "display_data"
    }
   ],
   "source": [
    "# Set the figure size\n",
    "\n",
    "plt.rcParams[\"figure.figsize\"] = (12, 9)\n",
    "\n",
    "\n",
    "\n",
    "# Plot the SNR\n",
    "\n",
    "plt.plot(slant_range/1e3, 10 * np.log10(snr), linewidth=2, label='SNR')\n",
    "\n",
    "plt.plot(slant_range/1e3, 10 * np.log10(snr_image), linewidth=2, label='SNR Image')\n",
    "\n",
    "\n",
    "\n",
    "# Set the plot title and labels\n",
    "\n",
    "plt.title('Spotlight Signal-to-Noise Ratio', size=18)\n",
    "\n",
    "plt.xlabel('Slant Range (km)', size=16)\n",
    "\n",
    "plt.ylabel('Signal-to-Noise Ratio (dB)', size=16)\n",
    "\n",
    "\n",
    "\n",
    "# Set the tick label size\n",
    "\n",
    "plt.tick_params(labelsize=16)\n",
    "\n",
    "\n",
    "\n",
    "# Turn on the grid\n",
    "\n",
    "plt.grid(linestyle=':', linewidth=0.5)\n",
    "\n",
    "\n",
    "\n",
    "# Display the legend\n",
    "\n",
    "plt.legend(loc='best')\n",
    "\n",
    "\n",
    "\n",
    "# Display the figure\n",
    "\n",
    "plt.show()"
   ]
  },
  {
   "cell_type": "code",
   "execution_count": null,
   "metadata": {},
   "outputs": [],
   "source": []
  }
 ],
 "metadata": {
  "colab": {
   "name": "stripmap_range_resolution.ipynb",
   "provenance": []
  },
  "kernelspec": {
   "display_name": "Python 3",
   "language": "python",
   "name": "python3"
  },
  "language_info": {
   "codemirror_mode": {
    "name": "ipython",
    "version": 3
   },
   "file_extension": ".py",
   "mimetype": "text/x-python",
   "name": "python",
   "nbconvert_exporter": "python",
   "pygments_lexer": "ipython3",
   "version": "3.8.5"
  },
  "vscode": {
   "interpreter": {
    "hash": "916dbcbb3f70747c44a77c7bcd40155683ae19c65e1c03b4aa3499c5328201f1"
   }
  }
 },
 "nbformat": 4,
 "nbformat_minor": 1
}
