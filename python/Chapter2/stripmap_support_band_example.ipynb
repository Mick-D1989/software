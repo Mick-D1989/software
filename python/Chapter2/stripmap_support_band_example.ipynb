{
 "cells": [
  {
   "cell_type": "markdown",
   "metadata": {
    "id": "8rmpCcDss8IL"
   },
   "source": [
    "# Introduction to Synthetic Aperture Radar Using Python and MATLAB\n",
    "\n",
    "## by Andy Harrison - &copy; Artech House 2022\n",
    "\n",
    "---\n",
    "\n",
    "## Example 2.12.2 Stripmap SAR Support Band\n",
    "---"
   ]
  },
  {
   "cell_type": "markdown",
   "metadata": {
    "id": "JFPTd4_P5WZm"
   },
   "source": [
    "**Import modules**"
   ]
  },
  {
   "cell_type": "code",
   "execution_count": 1,
   "metadata": {
    "id": "gZ11fHXD7vlr"
   },
   "outputs": [],
   "source": [
    "from scipy.constants import speed_of_light\n",
    "\n",
    "from matplotlib import pyplot as plt"
   ]
  },
  {
   "cell_type": "markdown",
   "metadata": {
    "id": "z7mPvla36ilV"
   },
   "source": [
    "**Set the along-track distance (m)**"
   ]
  },
  {
   "cell_type": "code",
   "execution_count": 2,
   "metadata": {
    "id": "oYudWiGX8Djw"
   },
   "outputs": [],
   "source": [
    "along_track = 100"
   ]
  },
  {
   "cell_type": "markdown",
   "metadata": {},
   "source": [
    "**Set the nominal slant range (m)**"
   ]
  },
  {
   "cell_type": "code",
   "execution_count": 3,
   "metadata": {},
   "outputs": [],
   "source": [
    "slant_range = 10e3"
   ]
  },
  {
   "cell_type": "markdown",
   "metadata": {},
   "source": [
    "**Set the cross-range resolution (m)**"
   ]
  },
  {
   "cell_type": "code",
   "execution_count": 4,
   "metadata": {},
   "outputs": [],
   "source": [
    "cross_range_resolution = 1"
   ]
  },
  {
   "cell_type": "markdown",
   "metadata": {},
   "source": [
    "**Set the operating frequency (Hz)**"
   ]
  },
  {
   "cell_type": "code",
   "execution_count": 5,
   "metadata": {},
   "outputs": [],
   "source": [
    "frequency = 10e9"
   ]
  },
  {
   "cell_type": "markdown",
   "metadata": {
    "id": "zd1Qx7_16kcu"
   },
   "source": [
    "**Calculate the wavelength using**<br><br>\n",
    "\\begin{equation}\n",
    "\\lambda = \\frac{c}{f}\\hspace{0.1in}\\text{(m)}\n",
    "\\end{equation}"
   ]
  },
  {
   "cell_type": "code",
   "execution_count": 6,
   "metadata": {
    "id": "pmlh1gyJ8Ls9"
   },
   "outputs": [],
   "source": [
    "wavelength = speed_of_light / frequency"
   ]
  },
  {
   "cell_type": "markdown",
   "metadata": {},
   "source": [
    "**Calculate the antenna dimension using**\n",
    "\n",
    "\\begin{equation}\n",
    "\\delta_a = \\frac{D_a}{2}\\hspace{0.1in}\\text{(m)}\\hspace{0.2in}(2.4)\n",
    "\\end{equation}"
   ]
  },
  {
   "cell_type": "code",
   "execution_count": 7,
   "metadata": {},
   "outputs": [],
   "source": [
    "antenna_width = 2 * cross_range_resolution"
   ]
  },
  {
   "cell_type": "markdown",
   "metadata": {},
   "source": [
    "**Calculate the support band using**\n",
    "\n",
    "\\begin{equation}\n",
    "b\\in\\Big[ -\\frac{L_{span}}{2} -\\frac{R_0 \\lambda}{2D_a},  \\frac{L_{span}}{2} +\\frac{R_0 \\lambda}{2D_a}\\Big]\\hspace{0.1in}\\text{(m)}\\hspace{0.2in}(2.5)\n",
    "\\end{equation}"
   ]
  },
  {
   "cell_type": "code",
   "execution_count": 8,
   "metadata": {
    "scrolled": true
   },
   "outputs": [],
   "source": [
    "b = [-0.5 * along_track - 0.5 * slant_range * wavelength / antenna_width, 0.5 * along_track + 0.5 * slant_range * wavelength / antenna_width]"
   ]
  },
  {
   "cell_type": "markdown",
   "metadata": {},
   "source": [
    "**Display the resutls**"
   ]
  },
  {
   "cell_type": "code",
   "execution_count": 9,
   "metadata": {},
   "outputs": [
    {
     "name": "stdout",
     "output_type": "stream",
     "text": [
      "Support Band = [-124.95, 124.95] (m)\n"
     ]
    }
   ],
   "source": [
    "print('Support Band = [{:.2f}, {:.2f}] (m)'.format(b[0], b[1]))"
   ]
  }
 ],
 "metadata": {
  "colab": {
   "name": "stripmap_range_resolution.ipynb",
   "provenance": []
  },
  "kernelspec": {
   "display_name": "Python 3",
   "language": "python",
   "name": "python3"
  },
  "language_info": {
   "codemirror_mode": {
    "name": "ipython",
    "version": 3
   },
   "file_extension": ".py",
   "mimetype": "text/x-python",
   "name": "python",
   "nbconvert_exporter": "python",
   "pygments_lexer": "ipython3",
   "version": "3.8.5"
  }
 },
 "nbformat": 4,
 "nbformat_minor": 1
}
